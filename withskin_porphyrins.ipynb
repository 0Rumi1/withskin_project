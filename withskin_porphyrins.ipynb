{
 "cells": [
  {
   "cell_type": "code",
   "execution_count": 1,
   "metadata": {},
   "outputs": [
    {
     "name": "stdout",
     "output_type": "stream",
     "text": [
      "               파일명    포피린 비율      피지비율  피지수     피지면적\n",
      "0    uv_0523_1.png  0.000014  0.000372   12  11113.0\n",
      "1   uv_0523_10.png  0.000188  0.000416    2   1959.0\n",
      "2  uv_0523_100.png  0.012682  0.001107   51  23452.0\n",
      "3  uv_0523_101.png  0.026985  0.000959   28  22649.0\n",
      "4  uv_0523_102.png  0.000400  0.000039   21  26917.0\n"
     ]
    }
   ],
   "source": [
    "\n",
    "import pandas as pd\n",
    "\n",
    "# 엑셀 파일 불러오기\n",
    "uv_df = pd.read_csv(r'C:\\Users\\USER\\Documents\\withskin_project\\uv_summary.csv')\n",
    "\n",
    "# 데이터 확인\n",
    "print(uv_df.head())"
   ]
  },
  {
   "cell_type": "code",
   "execution_count": 2,
   "metadata": {},
   "outputs": [
    {
     "name": "stdout",
     "output_type": "stream",
     "text": [
      "Mean: 0.0026701610982786967\n",
      "Minimum: 0.0\n",
      "Maximum: 0.0269847393689986\n",
      "25th Percentile: 0.0001456467234688\n",
      "50th Percentile (Median): 0.0014330597255599\n",
      "75th Percentile: 0.0034762409979423\n"
     ]
    }
   ],
   "source": [
    "# 열의 평균 계산\n",
    "mean_value = uv_df['포피린 비율'].mean()\n",
    "\n",
    "# 열의 최솟값 계산\n",
    "min_value = uv_df['포피린 비율'].min()\n",
    "\n",
    "# 열의 최댓값 계산\n",
    "max_value = uv_df['포피린 비율'].max()\n",
    "\n",
    "# 열의 사분위수 계산\n",
    "quantiles = uv_df['포피린 비율'].quantile([0.25, 0.5, 0.75, 0.01])\n",
    "\n",
    "print(\"Mean:\", mean_value)\n",
    "print(\"Minimum:\", min_value)\n",
    "print(\"Maximum:\", max_value)\n",
    "print(\"25th Percentile:\", quantiles[0.25])\n",
    "print(\"50th Percentile (Median):\", quantiles[0.5])\n",
    "print(\"75th Percentile:\", quantiles[0.75])"
   ]
  },
  {
   "cell_type": "code",
   "execution_count": 91,
   "metadata": {},
   "outputs": [
    {
     "data": {
      "text/html": [
       "<div>\n",
       "<style scoped>\n",
       "    .dataframe tbody tr th:only-of-type {\n",
       "        vertical-align: middle;\n",
       "    }\n",
       "\n",
       "    .dataframe tbody tr th {\n",
       "        vertical-align: top;\n",
       "    }\n",
       "\n",
       "    .dataframe thead th {\n",
       "        text-align: right;\n",
       "    }\n",
       "</style>\n",
       "<table border=\"1\" class=\"dataframe\">\n",
       "  <thead>\n",
       "    <tr style=\"text-align: right;\">\n",
       "      <th></th>\n",
       "      <th>파일명</th>\n",
       "      <th>포피린 비율</th>\n",
       "      <th>피지비율</th>\n",
       "      <th>피지수</th>\n",
       "      <th>피지면적</th>\n",
       "    </tr>\n",
       "  </thead>\n",
       "  <tbody>\n",
       "    <tr>\n",
       "      <th>0</th>\n",
       "      <td>uv_0523_1.png</td>\n",
       "      <td>0.999986</td>\n",
       "      <td>0.000372</td>\n",
       "      <td>12</td>\n",
       "      <td>11113.0</td>\n",
       "    </tr>\n",
       "    <tr>\n",
       "      <th>1</th>\n",
       "      <td>uv_0523_10.png</td>\n",
       "      <td>0.999812</td>\n",
       "      <td>0.000416</td>\n",
       "      <td>2</td>\n",
       "      <td>1959.0</td>\n",
       "    </tr>\n",
       "    <tr>\n",
       "      <th>2</th>\n",
       "      <td>uv_0523_100.png</td>\n",
       "      <td>0.987318</td>\n",
       "      <td>0.001107</td>\n",
       "      <td>51</td>\n",
       "      <td>23452.0</td>\n",
       "    </tr>\n",
       "    <tr>\n",
       "      <th>3</th>\n",
       "      <td>uv_0523_101.png</td>\n",
       "      <td>0.973015</td>\n",
       "      <td>0.000959</td>\n",
       "      <td>28</td>\n",
       "      <td>22649.0</td>\n",
       "    </tr>\n",
       "    <tr>\n",
       "      <th>4</th>\n",
       "      <td>uv_0523_102.png</td>\n",
       "      <td>0.999600</td>\n",
       "      <td>0.000039</td>\n",
       "      <td>21</td>\n",
       "      <td>26917.0</td>\n",
       "    </tr>\n",
       "    <tr>\n",
       "      <th>...</th>\n",
       "      <td>...</td>\n",
       "      <td>...</td>\n",
       "      <td>...</td>\n",
       "      <td>...</td>\n",
       "      <td>...</td>\n",
       "    </tr>\n",
       "    <tr>\n",
       "      <th>324</th>\n",
       "      <td>uv_95.png</td>\n",
       "      <td>0.992452</td>\n",
       "      <td>0.009351</td>\n",
       "      <td>45</td>\n",
       "      <td>58472.0</td>\n",
       "    </tr>\n",
       "    <tr>\n",
       "      <th>325</th>\n",
       "      <td>uv_96.png</td>\n",
       "      <td>0.986502</td>\n",
       "      <td>0.004417</td>\n",
       "      <td>21</td>\n",
       "      <td>11021.0</td>\n",
       "    </tr>\n",
       "    <tr>\n",
       "      <th>326</th>\n",
       "      <td>uv_97.png</td>\n",
       "      <td>0.995203</td>\n",
       "      <td>0.015143</td>\n",
       "      <td>57</td>\n",
       "      <td>47290.0</td>\n",
       "    </tr>\n",
       "    <tr>\n",
       "      <th>327</th>\n",
       "      <td>uv_98.png</td>\n",
       "      <td>0.996338</td>\n",
       "      <td>0.010635</td>\n",
       "      <td>52</td>\n",
       "      <td>36450.0</td>\n",
       "    </tr>\n",
       "    <tr>\n",
       "      <th>328</th>\n",
       "      <td>uv_99.png</td>\n",
       "      <td>0.997183</td>\n",
       "      <td>0.008038</td>\n",
       "      <td>21</td>\n",
       "      <td>12134.0</td>\n",
       "    </tr>\n",
       "  </tbody>\n",
       "</table>\n",
       "<p>329 rows × 5 columns</p>\n",
       "</div>"
      ],
      "text/plain": [
       "                 파일명    포피린 비율      피지비율  피지수     피지면적\n",
       "0      uv_0523_1.png  0.999986  0.000372   12  11113.0\n",
       "1     uv_0523_10.png  0.999812  0.000416    2   1959.0\n",
       "2    uv_0523_100.png  0.987318  0.001107   51  23452.0\n",
       "3    uv_0523_101.png  0.973015  0.000959   28  22649.0\n",
       "4    uv_0523_102.png  0.999600  0.000039   21  26917.0\n",
       "..               ...       ...       ...  ...      ...\n",
       "324        uv_95.png  0.992452  0.009351   45  58472.0\n",
       "325        uv_96.png  0.986502  0.004417   21  11021.0\n",
       "326        uv_97.png  0.995203  0.015143   57  47290.0\n",
       "327        uv_98.png  0.996338  0.010635   52  36450.0\n",
       "328        uv_99.png  0.997183  0.008038   21  12134.0\n",
       "\n",
       "[329 rows x 5 columns]"
      ]
     },
     "execution_count": 91,
     "metadata": {},
     "output_type": "execute_result"
    }
   ],
   "source": [
    "import pandas as pd\n",
    "\n",
    "# DataFrame에서 특정 컬럼 선택\n",
    "column_name = '포피린 비율'  # 점수화할 컬럼의 이름\n",
    "selected_column = uv_df[column_name]\n",
    "\n",
    "# 점수 계산\n",
    "scores = (1 - selected_column)\n",
    "\n",
    "# 스케일링된 결과를 원본 DataFrame에 반영\n",
    "uv_df[column_name] = scores\n",
    "\n",
    "# 결과 출력\n",
    "uv_df"
   ]
  },
  {
   "cell_type": "code",
   "execution_count": 28,
   "metadata": {},
   "outputs": [
    {
     "data": {
      "image/png": "[encoded data removed]",
      "text/plain": [
       "<Figure size 640x480 with 1 Axes>"
      ]
     },
     "metadata": {},
     "output_type": "display_data"
    }
   ],
   "source": [
    "import matplotlib.pyplot as plt\n",
    "\n",
    "data = uv_df['포피린 비율']  # 데이터 리스트\n",
    "num_bins = len(data)\n",
    "\n",
    "plt.hist(data, bins=num_bins)  # 데이터를 10개의 구간으로 나누어 히스토그램을 그립니다.\n",
    "plt.xlabel('Value')  # x축 레이블 설정\n",
    "plt.ylabel('Frequency')  # y축 레이블 설정\n",
    "plt.title('Histogram of Data')  # 그래프 제목 설정\n",
    "\n",
    "plt.show()"
   ]
  },
  {
   "cell_type": "code",
   "execution_count": 94,
   "metadata": {},
   "outputs": [
    {
     "name": "stdout",
     "output_type": "stream",
     "text": [
      "Mean: 0.9973298389017216\n",
      "Minimum: 0.9730152606310014\n",
      "Maximum: 1.0\n",
      "25th Percentile: 0.9965237590020577\n",
      "50th Percentile (Median): 0.9985669402744402\n",
      "75th Percentile: 0.9998543532765312\n"
     ]
    }
   ],
   "source": [
    "# 열의 평균 계산\n",
    "mean_value = uv_df['포피린 비율'].mean()\n",
    "\n",
    "# 열의 최솟값 계산\n",
    "min_value = uv_df['포피린 비율'].min()\n",
    "\n",
    "# 열의 최댓값 계산\n",
    "max_value = uv_df['포피린 비율'].max()\n",
    "\n",
    "# 열의 사분위수 계산\n",
    "quantiles = uv_df['포피린 비율'].quantile([0.25, 0.5, 0.75, 0.01])\n",
    "\n",
    "print(\"Mean:\", mean_value)\n",
    "print(\"Minimum:\", min_value)\n",
    "print(\"Maximum:\", max_value)\n",
    "print(\"25th Percentile:\", quantiles[0.25])\n",
    "print(\"50th Percentile (Median):\", quantiles[0.5])\n",
    "print(\"75th Percentile:\", quantiles[0.75])"
   ]
  },
  {
   "cell_type": "code",
   "execution_count": 125,
   "metadata": {},
   "outputs": [
    {
     "name": "stdout",
     "output_type": "stream",
     "text": [
      "Score:  14.438233763229285\n"
     ]
    }
   ],
   "source": [
    "# 하위 1% 점수를 기준으로 두었을 때 p1 이하인 포피린 비율의 값은 1점으로 나타나는 이슈가 있다.\n",
    "# 포피린의 면적이 얼굴의 절반인 경우(value = 0.5) 사람의 점수는 1점으로 나타난다. \n",
    "\n",
    "def calculate_score(value):\n",
    "    # Percentiles\n",
    "    p1 = 0.9816995134602196\n",
    "    p25 = 0.9965237590020577\n",
    "    p50 = 0.9985669402744402\n",
    "    p75 = 0.9998543532765312\n",
    "    \n",
    "    # Score ranges\n",
    "    if value <= p1:\n",
    "        return 1\n",
    "    elif p1 < value <= p25:\n",
    "        return 1 + (value - p1) / (p25 - p1) * 24\n",
    "    elif p25 < value <= p50:\n",
    "        return 26 + (value - p25) / (p50 - p25) * 24\n",
    "    elif p50 < value <= p75:\n",
    "        return 51 + (value - p50) / (p75 - p50) * 24\n",
    "    else:\n",
    "        return 76 + (value - p75) / (1 - p75) * 24\n",
    "\n",
    "# 주어진에 대한 점수를 계산\n",
    "value = 0.99  # 예시값\n",
    "score = calculate_score(value)\n",
    "print(\"Score: \", score)"
   ]
  },
  {
   "cell_type": "code",
   "execution_count": 124,
   "metadata": {},
   "outputs": [
    {
     "name": "stdout",
     "output_type": "stream",
     "text": [
      "Score:  24.842883609512555\n"
     ]
    }
   ],
   "source": [
    "# 아래는 하위 1프로의 기준을 두지 않고, 코드를 실행한 결\n",
    "# 포피린의 면적이 얼굴의 절반인 경우(value = 0.5) 사람의 점수는 13점으로 나타난다. \n",
    "\n",
    "def calculate_score(value):\n",
    "    # Percentiles\n",
    "    p25 = 0.9965237590020577\n",
    "    p50 = 0.9985669402744402\n",
    "    p75 = 0.9998543532765312\n",
    "    \n",
    "    # Score ranges\n",
    "    if value <= p25:\n",
    "        return 1 + (value - 0) / (p25 - 0) * 24\n",
    "    elif p25 < value <= p50:\n",
    "        return 26 + (value - p25) / (p50 - p25) * 24\n",
    "    elif p50 < value <= p75:\n",
    "        return 51 + (value - p50) / (p75 - p50) * 24\n",
    "    else:\n",
    "        return 76 + (value - p75) / (1 - p75) * 24\n",
    "\n",
    "# 주어진 값에 대한 점수를 계산\n",
    "value = 0.99 # 예시값\n",
    "score = calculate_score(value)\n",
    "print(\"Score: \", score)"
   ]
  },
  {
   "cell_type": "code",
   "execution_count": null,
   "metadata": {},
   "outputs": [],
   "source": [
    "#따라서 두번째 코드를 계산식으로 활용한다."
   ]
  }
 ],
 "metadata": {
  "kernelspec": {
   "display_name": "base",
   "language": "python",
   "name": "python3"
  },
  "language_info": {
   "codemirror_mode": {
    "name": "ipython",
    "version": 3
   },
   "file_extension": ".py",
   "mimetype": "text/x-python",
   "name": "python",
   "nbconvert_exporter": "python",
   "pygments_lexer": "ipython3",
   "version": "3.9.13"
  },
  "orig_nbformat": 4
 },
 "nbformat": 4,
 "nbformat_minor": 2
}
