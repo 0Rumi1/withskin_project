{
 "cells": [
  {
   "cell_type": "code",
   "execution_count": 58,
   "metadata": {},
   "outputs": [
    {
     "name": "stdout",
     "output_type": "stream",
     "text": [
      "                  파일명      홍조비율\n",
      "0  white_0529_204.png  0.057586\n",
      "1  white_0529_205.png  0.000218\n",
      "2  white_0529_206.png  0.000034\n",
      "3  white_0529_207.png  0.000121\n",
      "4  white_0529_208.png  0.179360\n"
     ]
    }
   ],
   "source": [
    "\n",
    "import pandas as pd\n",
    "\n",
    "# 엑셀 파일 불러오기\n",
    "white_df = pd.read_csv(r'C:\\Users\\USER\\Documents\\withskin_project\\white_summary.csv')\n",
    "\n",
    "# 데이터 확인\n",
    "print(white_df.head())"
   ]
  },
  {
   "cell_type": "code",
   "execution_count": 59,
   "metadata": {},
   "outputs": [
    {
     "data": {
      "image/png": "[encoded data removed]",
      "text/plain": [
       "<Figure size 640x480 with 1 Axes>"
      ]
     },
     "metadata": {},
     "output_type": "display_data"
    }
   ],
   "source": [
    "import matplotlib.pyplot as plt\n",
    "\n",
    "data = white_df['홍조비율']  # 데이터 리스트\n",
    "num_bins = len(data)\n",
    "\n",
    "plt.hist(data, bins=num_bins)  # 데이터를 10개의 구간으로 나누어 히스토그램을 그립니다.\n",
    "plt.xlabel('Value')  # x축 레이블 설정\n",
    "plt.ylabel('Frequency')  # y축 레이블 설정\n",
    "plt.title('Histogram of Data')  # 그래프 제목 설정\n",
    "\n",
    "plt.show()"
   ]
  },
  {
   "cell_type": "code",
   "execution_count": 60,
   "metadata": {},
   "outputs": [],
   "source": [
    "# white_157.png\n",
    "\n",
    "desired_filename = 'white_157.png'"
   ]
  },
  {
   "cell_type": "code",
   "execution_count": 61,
   "metadata": {},
   "outputs": [],
   "source": [
    "# 열의 평균 계산\n",
    "mean_value = white_df['홍조비율'].mean()\n",
    "\n",
    "# 열의 최솟값 계산\n",
    "min_value = white_df['홍조비율'].min()\n",
    "\n",
    "# 열의 최댓값 계산\n",
    "max_value = white_df['홍조비율'].max()"
   ]
  },
  {
   "cell_type": "code",
   "execution_count": 62,
   "metadata": {},
   "outputs": [
    {
     "name": "stdout",
     "output_type": "stream",
     "text": [
      "Mean: 0.38395549365973\n",
      "Minimum: 0.0\n",
      "Maximum: 3.2256007388919734\n"
     ]
    }
   ],
   "source": [
    "print(\"Mean:\", mean_value)\n",
    "print(\"Minimum:\", min_value)\n",
    "print(\"Maximum:\", max_value)"
   ]
  },
  {
   "cell_type": "code",
   "execution_count": 63,
   "metadata": {},
   "outputs": [
    {
     "name": "stdout",
     "output_type": "stream",
     "text": [
      "               파일명      홍조비율\n",
      "178  white_157.png  0.376846\n"
     ]
    }
   ],
   "source": [
    "result = white_df.loc[white_df['파일명'] == desired_filename]  # filename 열에서 desired_filename과 일치하는 행을 찾습니다.\n",
    "print(result)  # 결과값 출력\n"
   ]
  },
  {
   "attachments": {},
   "cell_type": "markdown",
   "metadata": {},
   "source": [
    "- 최솟값 0, 최댓값 4\n",
    "- 홍조가 진할수록 4 연할수록 0에 가까움"
   ]
  },
  {
   "attachments": {},
   "cell_type": "markdown",
   "metadata": {},
   "source": [
    "- 점수화를 위해 최댓값인 4를 빼서 수치를 반전함\n",
    "- 홍조가 진할수록 점수가 낮기 때문"
   ]
  },
  {
   "cell_type": "code",
   "execution_count": 64,
   "metadata": {},
   "outputs": [
    {
     "data": {
      "text/html": [
       "<div>\n",
       "<style scoped>\n",
       "    .dataframe tbody tr th:only-of-type {\n",
       "        vertical-align: middle;\n",
       "    }\n",
       "\n",
       "    .dataframe tbody tr th {\n",
       "        vertical-align: top;\n",
       "    }\n",
       "\n",
       "    .dataframe thead th {\n",
       "        text-align: right;\n",
       "    }\n",
       "</style>\n",
       "<table border=\"1\" class=\"dataframe\">\n",
       "  <thead>\n",
       "    <tr style=\"text-align: right;\">\n",
       "      <th></th>\n",
       "      <th>파일명</th>\n",
       "      <th>홍조비율</th>\n",
       "    </tr>\n",
       "  </thead>\n",
       "  <tbody>\n",
       "    <tr>\n",
       "      <th>0</th>\n",
       "      <td>white_0529_204.png</td>\n",
       "      <td>3.942414</td>\n",
       "    </tr>\n",
       "    <tr>\n",
       "      <th>1</th>\n",
       "      <td>white_0529_205.png</td>\n",
       "      <td>3.999782</td>\n",
       "    </tr>\n",
       "    <tr>\n",
       "      <th>2</th>\n",
       "      <td>white_0529_206.png</td>\n",
       "      <td>3.999966</td>\n",
       "    </tr>\n",
       "    <tr>\n",
       "      <th>3</th>\n",
       "      <td>white_0529_207.png</td>\n",
       "      <td>3.999879</td>\n",
       "    </tr>\n",
       "    <tr>\n",
       "      <th>4</th>\n",
       "      <td>white_0529_208.png</td>\n",
       "      <td>3.820640</td>\n",
       "    </tr>\n",
       "    <tr>\n",
       "      <th>...</th>\n",
       "      <td>...</td>\n",
       "      <td>...</td>\n",
       "    </tr>\n",
       "    <tr>\n",
       "      <th>312</th>\n",
       "      <td>white_95.png</td>\n",
       "      <td>3.999988</td>\n",
       "    </tr>\n",
       "    <tr>\n",
       "      <th>313</th>\n",
       "      <td>white_96.png</td>\n",
       "      <td>4.000000</td>\n",
       "    </tr>\n",
       "    <tr>\n",
       "      <th>314</th>\n",
       "      <td>white_97.png</td>\n",
       "      <td>2.127019</td>\n",
       "    </tr>\n",
       "    <tr>\n",
       "      <th>315</th>\n",
       "      <td>white_98.png</td>\n",
       "      <td>3.487922</td>\n",
       "    </tr>\n",
       "    <tr>\n",
       "      <th>316</th>\n",
       "      <td>white_99.png</td>\n",
       "      <td>3.915649</td>\n",
       "    </tr>\n",
       "  </tbody>\n",
       "</table>\n",
       "<p>317 rows × 2 columns</p>\n",
       "</div>"
      ],
      "text/plain": [
       "                    파일명      홍조비율\n",
       "0    white_0529_204.png  3.942414\n",
       "1    white_0529_205.png  3.999782\n",
       "2    white_0529_206.png  3.999966\n",
       "3    white_0529_207.png  3.999879\n",
       "4    white_0529_208.png  3.820640\n",
       "..                  ...       ...\n",
       "312        white_95.png  3.999988\n",
       "313        white_96.png  4.000000\n",
       "314        white_97.png  2.127019\n",
       "315        white_98.png  3.487922\n",
       "316        white_99.png  3.915649\n",
       "\n",
       "[317 rows x 2 columns]"
      ]
     },
     "execution_count": 64,
     "metadata": {},
     "output_type": "execute_result"
    }
   ],
   "source": [
    "import pandas as pd\n",
    "\n",
    "# DataFrame에서 특정 컬럼 선택\n",
    "column_name = '홍조비율'  # 점수화할 컬럼의 이름\n",
    "selected_column = white_df[column_name]\n",
    "\n",
    "# 점수 계산\n",
    "scores = (4 - selected_column)\n",
    "\n",
    "# 스케일링된 결과를 원본 DataFrame에 반영\n",
    "white_df[column_name] = scores\n",
    "\n",
    "# 결과 출력\n",
    "white_df"
   ]
  },
  {
   "cell_type": "code",
   "execution_count": 65,
   "metadata": {},
   "outputs": [
    {
     "name": "stdout",
     "output_type": "stream",
     "text": [
      "Mean: 3.616044506340271\n",
      "Minimum: 0.7743992611080266\n",
      "Maximum: 4.0\n",
      "25th Percentile: 3.405612927660649\n",
      "50th Percentile (Median): 3.850646220640915\n",
      "75th Percentile: 3.9921749563926774\n",
      "90th Percentile: 3.999994278164435\n"
     ]
    }
   ],
   "source": [
    "# 열의 평균 계산\n",
    "mean_value = white_df['홍조비율'].mean()\n",
    "\n",
    "# 열의 최솟값 계산\n",
    "min_value = white_df['홍조비율'].min()\n",
    "\n",
    "# 열의 최댓값 계산\n",
    "max_value = white_df['홍조비율'].max()\n",
    "\n",
    "# 열의 사분위수 계산\n",
    "quantiles = white_df['홍조비율'].quantile([0.25, 0.5, 0.75, 0.01, 0.9])\n",
    "\n",
    "print(\"Mean:\", mean_value)\n",
    "print(\"Minimum:\", min_value)\n",
    "print(\"Maximum:\", max_value)\n",
    "print(\"25th Percentile:\", quantiles[0.25])\n",
    "print(\"50th Percentile (Median):\", quantiles[0.5])\n",
    "print(\"75th Percentile:\", quantiles[0.75])\n",
    "print(\"90th Percentile:\", quantiles[0.9])"
   ]
  },
  {
   "cell_type": "code",
   "execution_count": 66,
   "metadata": {},
   "outputs": [
    {
     "data": {
      "image/png": "[encoded data removed]",
      "text/plain": [
       "<Figure size 640x480 with 1 Axes>"
      ]
     },
     "metadata": {},
     "output_type": "display_data"
    }
   ],
   "source": [
    "import matplotlib.pyplot as plt\n",
    "\n",
    "data = white_df['홍조비율']  # 데이터 리스트\n",
    "num_bins = len(data)\n",
    "\n",
    "plt.hist(data, bins=num_bins)  # 데이터를 10개의 구간으로 나누어 히스토그램을 그립니다.\n",
    "plt.xlabel('Value')  # x축 레이블 설정\n",
    "plt.ylabel('Frequency')  # y축 레이블 설정\n",
    "plt.title('Histogram of Data')  # 그래프 제목 설정\n",
    "\n",
    "plt.show()"
   ]
  },
  {
   "attachments": {},
   "cell_type": "markdown",
   "metadata": {},
   "source": [
    "홍조의 진하기에 따라 4가지 구간으로 나눌 수 있음. 이를 바탕으로 점수 범위 구분\n",
    "\n",
    "- 0 - 1 사이: 25점\n",
    "- 1 - 2 사이: 50점\n",
    "- 2 - 3 사이: 75점\n",
    "- 3 - 4 사이: 100점\n",
    "\n",
    "4개의 구간으로 점수 범위를 구분함"
   ]
  },
  {
   "cell_type": "code",
   "execution_count": 67,
   "metadata": {},
   "outputs": [
    {
     "ename": "NameError",
     "evalue": "name 'sp50' is not defined",
     "output_type": "error",
     "traceback": [
      "\u001b[1;31m---------------------------------------------------------------------------\u001b[0m",
      "\u001b[1;31mNameError\u001b[0m                                 Traceback (most recent call last)",
      "\u001b[1;32m~\\AppData\\Local\\Temp\\ipykernel_19008\\1730927976.py\u001b[0m in \u001b[0;36m<module>\u001b[1;34m\u001b[0m\n\u001b[0;32m     27\u001b[0m \u001b[1;33m\u001b[0m\u001b[0m\n\u001b[0;32m     28\u001b[0m \u001b[1;31m# 홍조비율 열의 데이터 값을 세분화된 점수로 환산하여 새 열 '홍조점수'에 추가\u001b[0m\u001b[1;33m\u001b[0m\u001b[1;33m\u001b[0m\u001b[0m\n\u001b[1;32m---> 29\u001b[1;33m \u001b[0mwhite_df\u001b[0m\u001b[1;33m[\u001b[0m\u001b[1;34m'세분화_홍조점수'\u001b[0m\u001b[1;33m]\u001b[0m \u001b[1;33m=\u001b[0m \u001b[0mwhite_df\u001b[0m\u001b[1;33m[\u001b[0m\u001b[1;34m'홍조비율'\u001b[0m\u001b[1;33m]\u001b[0m\u001b[1;33m.\u001b[0m\u001b[0mapply\u001b[0m\u001b[1;33m(\u001b[0m\u001b[0mconvert_to_fine_score\u001b[0m\u001b[1;33m)\u001b[0m\u001b[1;33m\u001b[0m\u001b[1;33m\u001b[0m\u001b[0m\n\u001b[0m",
      "\u001b[1;32mc:\\ProgramData\\Anaconda3\\lib\\site-packages\\pandas\\core\\series.py\u001b[0m in \u001b[0;36mapply\u001b[1;34m(self, func, convert_dtype, args, **kwargs)\u001b[0m\n\u001b[0;32m   4431\u001b[0m         \u001b[0mdtype\u001b[0m\u001b[1;33m:\u001b[0m \u001b[0mfloat64\u001b[0m\u001b[1;33m\u001b[0m\u001b[1;33m\u001b[0m\u001b[0m\n\u001b[0;32m   4432\u001b[0m         \"\"\"\n\u001b[1;32m-> 4433\u001b[1;33m         \u001b[1;32mreturn\u001b[0m \u001b[0mSeriesApply\u001b[0m\u001b[1;33m(\u001b[0m\u001b[0mself\u001b[0m\u001b[1;33m,\u001b[0m \u001b[0mfunc\u001b[0m\u001b[1;33m,\u001b[0m \u001b[0mconvert_dtype\u001b[0m\u001b[1;33m,\u001b[0m \u001b[0margs\u001b[0m\u001b[1;33m,\u001b[0m \u001b[0mkwargs\u001b[0m\u001b[1;33m)\u001b[0m\u001b[1;33m.\u001b[0m\u001b[0mapply\u001b[0m\u001b[1;33m(\u001b[0m\u001b[1;33m)\u001b[0m\u001b[1;33m\u001b[0m\u001b[1;33m\u001b[0m\u001b[0m\n\u001b[0m\u001b[0;32m   4434\u001b[0m \u001b[1;33m\u001b[0m\u001b[0m\n\u001b[0;32m   4435\u001b[0m     def _reduce(\n",
      "\u001b[1;32mc:\\ProgramData\\Anaconda3\\lib\\site-packages\\pandas\\core\\apply.py\u001b[0m in \u001b[0;36mapply\u001b[1;34m(self)\u001b[0m\n\u001b[0;32m   1086\u001b[0m             \u001b[1;32mreturn\u001b[0m \u001b[0mself\u001b[0m\u001b[1;33m.\u001b[0m\u001b[0mapply_str\u001b[0m\u001b[1;33m(\u001b[0m\u001b[1;33m)\u001b[0m\u001b[1;33m\u001b[0m\u001b[1;33m\u001b[0m\u001b[0m\n\u001b[0;32m   1087\u001b[0m \u001b[1;33m\u001b[0m\u001b[0m\n\u001b[1;32m-> 1088\u001b[1;33m         \u001b[1;32mreturn\u001b[0m \u001b[0mself\u001b[0m\u001b[1;33m.\u001b[0m\u001b[0mapply_standard\u001b[0m\u001b[1;33m(\u001b[0m\u001b[1;33m)\u001b[0m\u001b[1;33m\u001b[0m\u001b[1;33m\u001b[0m\u001b[0m\n\u001b[0m\u001b[0;32m   1089\u001b[0m \u001b[1;33m\u001b[0m\u001b[0m\n\u001b[0;32m   1090\u001b[0m     \u001b[1;32mdef\u001b[0m \u001b[0magg\u001b[0m\u001b[1;33m(\u001b[0m\u001b[0mself\u001b[0m\u001b[1;33m)\u001b[0m\u001b[1;33m:\u001b[0m\u001b[1;33m\u001b[0m\u001b[1;33m\u001b[0m\u001b[0m\n",
      "\u001b[1;32mc:\\ProgramData\\Anaconda3\\lib\\site-packages\\pandas\\core\\apply.py\u001b[0m in \u001b[0;36mapply_standard\u001b[1;34m(self)\u001b[0m\n\u001b[0;32m   1141\u001b[0m                 \u001b[1;31m# List[Union[Callable[..., Any], str]]]]]\"; expected\u001b[0m\u001b[1;33m\u001b[0m\u001b[1;33m\u001b[0m\u001b[0m\n\u001b[0;32m   1142\u001b[0m                 \u001b[1;31m# \"Callable[[Any], Any]\"\u001b[0m\u001b[1;33m\u001b[0m\u001b[1;33m\u001b[0m\u001b[0m\n\u001b[1;32m-> 1143\u001b[1;33m                 mapped = lib.map_infer(\n\u001b[0m\u001b[0;32m   1144\u001b[0m                     \u001b[0mvalues\u001b[0m\u001b[1;33m,\u001b[0m\u001b[1;33m\u001b[0m\u001b[1;33m\u001b[0m\u001b[0m\n\u001b[0;32m   1145\u001b[0m                     \u001b[0mf\u001b[0m\u001b[1;33m,\u001b[0m  \u001b[1;31m# type: ignore[arg-type]\u001b[0m\u001b[1;33m\u001b[0m\u001b[1;33m\u001b[0m\u001b[0m\n",
      "\u001b[1;32mc:\\ProgramData\\Anaconda3\\lib\\site-packages\\pandas\\_libs\\lib.pyx\u001b[0m in \u001b[0;36mpandas._libs.lib.map_infer\u001b[1;34m()\u001b[0m\n",
      "\u001b[1;32m~\\AppData\\Local\\Temp\\ipykernel_19008\\1730927976.py\u001b[0m in \u001b[0;36mconvert_to_fine_score\u001b[1;34m(redness_value)\u001b[0m\n\u001b[0;32m     15\u001b[0m         \u001b[0mscore\u001b[0m \u001b[1;33m=\u001b[0m \u001b[1;33m(\u001b[0m\u001b[1;33m(\u001b[0m\u001b[0mredness_value\u001b[0m \u001b[1;33m-\u001b[0m \u001b[0mMinimum\u001b[0m\u001b[1;33m)\u001b[0m \u001b[1;33m/\u001b[0m \u001b[1;33m(\u001b[0m\u001b[0ms25\u001b[0m \u001b[1;33m-\u001b[0m \u001b[0mMinimum\u001b[0m\u001b[1;33m)\u001b[0m \u001b[1;33m*\u001b[0m \u001b[1;36m25\u001b[0m\u001b[1;33m)\u001b[0m\u001b[1;33m\u001b[0m\u001b[1;33m\u001b[0m\u001b[0m\n\u001b[0;32m     16\u001b[0m     \u001b[1;32melif\u001b[0m \u001b[0mp25\u001b[0m \u001b[1;33m<\u001b[0m \u001b[0mredness_value\u001b[0m \u001b[1;33m<=\u001b[0m \u001b[0mp50\u001b[0m\u001b[1;33m:\u001b[0m  \u001b[1;31m# 26 - 50점 구간\u001b[0m\u001b[1;33m\u001b[0m\u001b[1;33m\u001b[0m\u001b[0m\n\u001b[1;32m---> 17\u001b[1;33m         \u001b[0mscore\u001b[0m \u001b[1;33m=\u001b[0m \u001b[1;33m(\u001b[0m\u001b[1;36m25\u001b[0m \u001b[1;33m+\u001b[0m \u001b[1;33m(\u001b[0m\u001b[1;33m(\u001b[0m\u001b[0mredness_value\u001b[0m \u001b[1;33m-\u001b[0m \u001b[0ms25\u001b[0m\u001b[1;33m)\u001b[0m \u001b[1;33m/\u001b[0m \u001b[1;33m(\u001b[0m\u001b[0msp50\u001b[0m \u001b[1;33m-\u001b[0m \u001b[0ms25\u001b[0m\u001b[1;33m)\u001b[0m\u001b[1;33m)\u001b[0m \u001b[1;33m*\u001b[0m \u001b[1;36m25\u001b[0m\u001b[1;33m)\u001b[0m\u001b[1;33m\u001b[0m\u001b[1;33m\u001b[0m\u001b[0m\n\u001b[0m\u001b[0;32m     18\u001b[0m     \u001b[1;32melif\u001b[0m \u001b[0mp50\u001b[0m \u001b[1;33m<\u001b[0m \u001b[0mredness_value\u001b[0m \u001b[1;33m<=\u001b[0m \u001b[0mp75\u001b[0m\u001b[1;33m:\u001b[0m  \u001b[1;31m#  - 75점 구간\u001b[0m\u001b[1;33m\u001b[0m\u001b[1;33m\u001b[0m\u001b[0m\n\u001b[0;32m     19\u001b[0m         \u001b[0mscore\u001b[0m \u001b[1;33m=\u001b[0m \u001b[1;33m(\u001b[0m\u001b[1;36m50\u001b[0m \u001b[1;33m+\u001b[0m \u001b[1;33m(\u001b[0m\u001b[1;33m(\u001b[0m\u001b[0mredness_value\u001b[0m \u001b[1;33m-\u001b[0m \u001b[0ms50\u001b[0m\u001b[1;33m)\u001b[0m \u001b[1;33m/\u001b[0m \u001b[1;33m(\u001b[0m\u001b[0ms75\u001b[0m \u001b[1;33m-\u001b[0m \u001b[0ms50\u001b[0m\u001b[1;33m)\u001b[0m\u001b[1;33m)\u001b[0m \u001b[1;33m*\u001b[0m \u001b[1;36m25\u001b[0m\u001b[1;33m)\u001b[0m\u001b[1;33m\u001b[0m\u001b[1;33m\u001b[0m\u001b[0m\n",
      "\u001b[1;31mNameError\u001b[0m: name 'sp50' is not defined"
     ]
    }
   ],
   "source": [
    "import pandas as pd\n",
    "\n",
    "# 통계 값 정의\n",
    "Mean= 3.616044506340271\n",
    "Minimum= 0\n",
    "Maximum= 4.0\n",
    "s25 = 1\n",
    "s50 = 2\n",
    "s75= 3\n",
    "\n",
    "\n",
    "# 세분화된 점수를 구 함수 정의\n",
    "def convert_to_fine_score(redness_value):\n",
    "    if Minimum <= redness_value <= s25:  # 0 - 25점 구간\n",
    "        score = ((redness_value - Minimum) / (s25 - Minimum) * 25)\n",
    "    elif p25 < redness_value <= p50:  # 26 - 50점 구간\n",
    "        score = (25 + ((redness_value - s25) / (sp50 - s25)) * 25)\n",
    "    elif p50 < redness_value <= p75:  #  - 75점 구간\n",
    "        score = (50 + ((redness_value - s50) / (s75 - s50)) * 25)\n",
    "    elif p75 < redness_value <= Maximum:  # 76 - 100점 구간\n",
    "        score = (75 + ((redness_value - s75) / (Maximum - s75)) * 25)\n",
    "    else:\n",
    "        return None\n",
    "\n",
    "    return score\n",
    "\n",
    "\n",
    "# 홍조비율 열의 데이터 값을 세분화된 점수로 환산하여 새 열 '홍조점수'에 추가\n",
    "white_df['세분화_홍조점수'] = white_df['홍조비율'].apply(convert_to_fine_score)"
   ]
  },
  {
   "cell_type": "code",
   "execution_count": null,
   "metadata": {},
   "outputs": [
    {
     "data": {
      "text/html": [
       "<div>\n",
       "<style scoped>\n",
       "    .dataframe tbody tr th:only-of-type {\n",
       "        vertical-align: middle;\n",
       "    }\n",
       "\n",
       "    .dataframe tbody tr th {\n",
       "        vertical-align: top;\n",
       "    }\n",
       "\n",
       "    .dataframe thead th {\n",
       "        text-align: right;\n",
       "    }\n",
       "</style>\n",
       "<table border=\"1\" class=\"dataframe\">\n",
       "  <thead>\n",
       "    <tr style=\"text-align: right;\">\n",
       "      <th></th>\n",
       "      <th>파일명</th>\n",
       "      <th>홍조비율</th>\n",
       "      <th>세분화_홍조점수</th>\n",
       "    </tr>\n",
       "  </thead>\n",
       "  <tbody>\n",
       "    <tr>\n",
       "      <th>0</th>\n",
       "      <td>white_0529_204.png</td>\n",
       "      <td>3.942414</td>\n",
       "      <td>98.560351</td>\n",
       "    </tr>\n",
       "    <tr>\n",
       "      <th>1</th>\n",
       "      <td>white_0529_205.png</td>\n",
       "      <td>3.999782</td>\n",
       "      <td>99.994538</td>\n",
       "    </tr>\n",
       "    <tr>\n",
       "      <th>2</th>\n",
       "      <td>white_0529_206.png</td>\n",
       "      <td>3.999966</td>\n",
       "      <td>99.999155</td>\n",
       "    </tr>\n",
       "    <tr>\n",
       "      <th>3</th>\n",
       "      <td>white_0529_207.png</td>\n",
       "      <td>3.999879</td>\n",
       "      <td>99.996966</td>\n",
       "    </tr>\n",
       "    <tr>\n",
       "      <th>4</th>\n",
       "      <td>white_0529_208.png</td>\n",
       "      <td>3.820640</td>\n",
       "      <td>95.515988</td>\n",
       "    </tr>\n",
       "    <tr>\n",
       "      <th>...</th>\n",
       "      <td>...</td>\n",
       "      <td>...</td>\n",
       "      <td>...</td>\n",
       "    </tr>\n",
       "    <tr>\n",
       "      <th>312</th>\n",
       "      <td>white_95.png</td>\n",
       "      <td>3.999988</td>\n",
       "      <td>99.999697</td>\n",
       "    </tr>\n",
       "    <tr>\n",
       "      <th>313</th>\n",
       "      <td>white_96.png</td>\n",
       "      <td>4.000000</td>\n",
       "      <td>100.000000</td>\n",
       "    </tr>\n",
       "    <tr>\n",
       "      <th>314</th>\n",
       "      <td>white_97.png</td>\n",
       "      <td>2.127019</td>\n",
       "      <td>53.175469</td>\n",
       "    </tr>\n",
       "    <tr>\n",
       "      <th>315</th>\n",
       "      <td>white_98.png</td>\n",
       "      <td>3.487922</td>\n",
       "      <td>87.198056</td>\n",
       "    </tr>\n",
       "    <tr>\n",
       "      <th>316</th>\n",
       "      <td>white_99.png</td>\n",
       "      <td>3.915649</td>\n",
       "      <td>97.891214</td>\n",
       "    </tr>\n",
       "  </tbody>\n",
       "</table>\n",
       "<p>317 rows × 3 columns</p>\n",
       "</div>"
      ],
      "text/plain": [
       "                    파일명      홍조비율    세분화_홍조점수\n",
       "0    white_0529_204.png  3.942414   98.560351\n",
       "1    white_0529_205.png  3.999782   99.994538\n",
       "2    white_0529_206.png  3.999966   99.999155\n",
       "3    white_0529_207.png  3.999879   99.996966\n",
       "4    white_0529_208.png  3.820640   95.515988\n",
       "..                  ...       ...         ...\n",
       "312        white_95.png  3.999988   99.999697\n",
       "313        white_96.png  4.000000  100.000000\n",
       "314        white_97.png  2.127019   53.175469\n",
       "315        white_98.png  3.487922   87.198056\n",
       "316        white_99.png  3.915649   97.891214\n",
       "\n",
       "[317 rows x 3 columns]"
      ]
     },
     "execution_count": 52,
     "metadata": {},
     "output_type": "execute_result"
    }
   ],
   "source": [
    "white_df"
   ]
  },
  {
   "cell_type": "code",
   "execution_count": null,
   "metadata": {},
   "outputs": [
    {
     "name": "stdout",
     "output_type": "stream",
     "text": [
      "반올림한 점수: 0       99.0\n",
      "1      100.0\n",
      "2      100.0\n",
      "3      100.0\n",
      "4       96.0\n",
      "       ...  \n",
      "312    100.0\n",
      "313    100.0\n",
      "314     53.0\n",
      "315     87.0\n",
      "316     98.0\n",
      "Name: 세분화_홍조점수, Length: 317, dtype: float64\n"
     ]
    }
   ],
   "source": [
    "rounded_value = round(white_df['세분화_홍조점수']) # 첫째 자리에서 반올림\n",
    "print(\"반올림한 점수:\",rounded_value)"
   ]
  },
  {
   "cell_type": "code",
   "execution_count": null,
   "metadata": {},
   "outputs": [],
   "source": [
    "# white_157.png\n",
    "\n",
    "desired_filename = 'white_157.png'"
   ]
  },
  {
   "cell_type": "code",
   "execution_count": null,
   "metadata": {},
   "outputs": [
    {
     "name": "stdout",
     "output_type": "stream",
     "text": [
      "               파일명      홍조비율   세분화_홍조점수\n",
      "178  white_157.png  3.623154  90.578841\n"
     ]
    }
   ],
   "source": [
    "result = white_df.loc[white_df['파일명'] == desired_filename]  # filename 열에서 desired_filename과 일치하는 행을 찾습니다.\n",
    "print(result)  # 결과값 출력\n",
    "\n",
    "\n",
    "\n"
   ]
  }
 ],
 "metadata": {
  "kernelspec": {
   "display_name": "base",
   "language": "python",
   "name": "python3"
  },
  "language_info": {
   "codemirror_mode": {
    "name": "ipython",
    "version": 3
   },
   "file_extension": ".py",
   "mimetype": "text/x-python",
   "name": "python",
   "nbconvert_exporter": "python",
   "pygments_lexer": "ipython3",
   "version": "3.9.13"
  },
  "orig_nbformat": 4
 },
 "nbformat": 4,
 "nbformat_minor": 2
}
